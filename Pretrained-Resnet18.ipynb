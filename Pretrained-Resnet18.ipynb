{
  "cells": [
    {
      "cell_type": "markdown",
      "metadata": {},
      "source": [
        "Loading Dataset"
      ]
    },
    {
      "cell_type": "code",
      "execution_count": null,
      "metadata": {
        "colab": {
          "base_uri": "https://localhost:8080/"
        },
        "id": "cKF1LIqu0JQe",
        "outputId": "b1deee60-c0c0-4308-e637-5e338f0276a8",
        "tags": []
      },
      "outputs": [],
      "source": [
        "!wget https://s3-api.us-geo.objectstorage.softlayer.net/cf-courses-data/CognitiveClass/DL0321EN/data/images/Positive_tensors.zip\n",
        "!unzip -q Positive_tensors.zip"
      ]
    },
    {
      "cell_type": "code",
      "execution_count": null,
      "metadata": {
        "colab": {
          "base_uri": "https://localhost:8080/"
        },
        "id": "v7NIUk510JQj",
        "outputId": "721c1679-60b1-43e8-c7c4-b411166252b6",
        "tags": []
      },
      "outputs": [],
      "source": [
        "! wget https://s3-api.us-geo.objectstorage.softlayer.net/cf-courses-data/CognitiveClass/DL0321EN/data/images/Negative_tensors.zip\n",
        "!unzip -q Negative_tensors.zip"
      ]
    },
    {
      "cell_type": "markdown",
      "metadata": {
        "id": "lUCgw9Cs0JQk"
      },
      "source": [
        "Importing Libraries\n"
      ]
    },
    {
      "cell_type": "code",
      "execution_count": null,
      "metadata": {
        "colab": {
          "base_uri": "https://localhost:8080/"
        },
        "id": "iEgfl8C10JQl",
        "outputId": "210b1c91-b238-4595-8618-1f0eb9bcaae6",
        "tags": []
      },
      "outputs": [],
      "source": [
        "\n",
        "import torchvision.models as models\n",
        "from PIL import Image\n",
        "from torchvision import transforms\n",
        "import torch.nn as nn\n",
        "import time\n",
        "import torch\n",
        "import matplotlib.pylab as plt\n",
        "import numpy as np\n",
        "from torch.utils.data import Dataset, DataLoader\n",
        "import h5py\n",
        "from matplotlib.pyplot import imshow\n",
        "import matplotlib.pylab as plt\n",
        "import pandas as pd\n",
        "import os\n",
        "torch.manual_seed(0)"
      ]
    },
    {
      "cell_type": "markdown",
      "metadata": {
        "id": "ipFy540z0JQn"
      },
      "source": [
        "Dataset Class\n"
      ]
    },
    {
      "cell_type": "code",
      "execution_count": null,
      "metadata": {
        "colab": {
          "base_uri": "https://localhost:8080/"
        },
        "id": "cJf_LkNO0JQo",
        "outputId": "f347eff8-e958-43a2-c804-c60fb83fc184",
        "tags": []
      },
      "outputs": [],
      "source": [
        "\n",
        "\n",
        "class Dataset(Dataset):\n",
        "\n",
        "    # Constructor\n",
        "    def __init__(self,transform=None,train=True):\n",
        "\n",
        "        directory = \"/content\"\n",
        "        positive=\"Positive_tensors\"\n",
        "        negative='Negative_tensors'\n",
        "\n",
        "        positive_file_path=os.path.join(directory,positive)\n",
        "        negative_file_path=os.path.join(directory,negative)\n",
        "        positive_files=[os.path.join(positive_file_path,file) for file in os.listdir(positive_file_path) if file.endswith(\".pt\")]\n",
        "        negative_files=[os.path.join(negative_file_path,file) for file in os.listdir(negative_file_path) if file.endswith(\".pt\")]\n",
        "        number_of_samples=len(positive_files)+len(negative_files)\n",
        "\n",
        "        self.all_files=[None]*number_of_samples\n",
        "        self.all_files[::2]=positive_files\n",
        "        self.all_files[1::2]=negative_files\n",
        "        self.transform = transform\n",
        "        #torch.LongTensor\n",
        "        self.Y=torch.zeros([number_of_samples]).type(torch.LongTensor)\n",
        "        self.Y[::2]=1\n",
        "        self.Y[1::2]=0\n",
        "\n",
        "        if train:\n",
        "            self.all_files=self.all_files[0:30000]\n",
        "            self.Y=self.Y[0:30000]\n",
        "            self.len=len(self.all_files)\n",
        "        else:\n",
        "            self.all_files=self.all_files[30000:]\n",
        "            self.Y=self.Y[30000:]\n",
        "            self.len=len(self.all_files)\n",
        "\n",
        "    # Get the length\n",
        "    def __len__(self):\n",
        "        return self.len\n",
        "\n",
        "    # Getter\n",
        "    def __getitem__(self, idx):\n",
        "\n",
        "        image=torch.load(self.all_files[idx])\n",
        "        y=self.Y[idx]\n",
        "\n",
        "\n",
        "        if self.transform:\n",
        "            image = self.transform(image)\n",
        "\n",
        "        return image, y\n",
        "\n",
        "print(\"done\")"
      ]
    },
    {
      "cell_type": "markdown",
      "metadata": {
        "id": "e-Ls_lLS0JQp"
      },
      "source": [
        "Splitting and Transforming Dataset \n"
      ]
    },
    {
      "cell_type": "code",
      "execution_count": null,
      "metadata": {
        "colab": {
          "base_uri": "https://localhost:8080/"
        },
        "id": "5vdKUykt0JQp",
        "outputId": "1d4f617c-5eff-4acc-a924-f37a336c207c",
        "tags": []
      },
      "outputs": [],
      "source": [
        "mean=[0.485, 0.456, 0.406]\n",
        "std = [0.229, 0.224, 0.225]\n",
        "# Type your code here\n",
        "composed = transforms.Compose([transforms.Resize(224), transforms.Normalize(mean, std)])\n",
        "train_dataset = Dataset(transform=composed, train=True)\n",
        "validation_dataset = Dataset(transform=composed, train=False)\n",
        "print(\"done\")"
      ]
    },
    {
      "cell_type": "markdown",
      "metadata": {},
      "source": [
        "Setup GPU"
      ]
    },
    {
      "cell_type": "code",
      "execution_count": null,
      "metadata": {
        "colab": {
          "base_uri": "https://localhost:8080/"
        },
        "id": "buNamdCjFMsl",
        "outputId": "46680f6b-2ff6-4d45-fc40-d3e1d0a33279"
      },
      "outputs": [],
      "source": [
        "device = torch.device(\"cuda\" if torch.cuda.is_available() else \"cpu\")\n",
        "print(f\"Using device: {device}\")"
      ]
    },
    {
      "cell_type": "markdown",
      "metadata": {},
      "source": [
        "Load the Model"
      ]
    },
    {
      "cell_type": "code",
      "execution_count": null,
      "metadata": {
        "colab": {
          "base_uri": "https://localhost:8080/"
        },
        "id": "J4uKPYkI0JQr",
        "outputId": "9855c507-6f8b-4c7c-e80e-d87f780af919",
        "tags": []
      },
      "outputs": [],
      "source": [
        "# Load the pre-trained model resnet18\n",
        "model= models.resnet18(pretrained=True)\n"
      ]
    },
    {
      "cell_type": "code",
      "execution_count": 11,
      "metadata": {
        "id": "fFQ6tAcx0JQs",
        "tags": []
      },
      "outputs": [],
      "source": [
        "# Set the parameter cannot be trained for the pre-trained model\n",
        "for param in model.parameters():\n",
        "    param.requires_grad=False\n"
      ]
    },
    {
      "cell_type": "markdown",
      "metadata": {
        "id": "PaNxby2g0JQt"
      },
      "source": [
        "Define the Output Layer"
      ]
    },
    {
      "cell_type": "code",
      "execution_count": 12,
      "metadata": {
        "id": "alYlxPUz0JQu",
        "tags": []
      },
      "outputs": [],
      "source": [
        "model.fc=nn.Linear(512,7)"
      ]
    },
    {
      "cell_type": "code",
      "execution_count": null,
      "metadata": {
        "colab": {
          "base_uri": "https://localhost:8080/"
        },
        "id": "sVdezjkxFSNW",
        "outputId": "b05b9852-d6bb-4acb-93f0-1c0f526c0705"
      },
      "outputs": [],
      "source": [
        "#  model initialization\n",
        "model.to(device)"
      ]
    },
    {
      "cell_type": "markdown",
      "metadata": {
        "id": "FaMc_e5f0JQx"
      },
      "source": [
        "Dataloader\n"
      ]
    },
    {
      "cell_type": "code",
      "execution_count": 16,
      "metadata": {
        "id": "0tTrF_Mh0JRI"
      },
      "outputs": [],
      "source": [
        "train_loader = DataLoader(dataset=train_dataset, batch_size=100, shuffle=True)\n",
        "validation_loader = DataLoader(dataset=validation_dataset, batch_size=100, shuffle=False)\n"
      ]
    },
    {
      "cell_type": "markdown",
      "metadata": {
        "id": "d_7RwME_0JRJ"
      },
      "source": [
        "Optimizer & Criterion\n"
      ]
    },
    {
      "cell_type": "code",
      "execution_count": 17,
      "metadata": {
        "id": "mMxe7l_l0JRJ"
      },
      "outputs": [],
      "source": [
        "optimizer = torch.optim.Adam([parameters  for parameters in model.parameters() if parameters.requires_grad],lr=0.001)\n",
        "criterion = nn.CrossEntropyLoss()"
      ]
    },
    {
      "cell_type": "markdown",
      "metadata": {
        "id": "rbLvzsFS0JRK"
      },
      "source": [
        "Training the Model"
      ]
    },
    {
      "cell_type": "code",
      "execution_count": null,
      "metadata": {
        "colab": {
          "base_uri": "https://localhost:8080/"
        },
        "id": "qnbLvAPv0JRK",
        "outputId": "aa0ce724-e7ba-4c5b-ebb3-b062d42729c2"
      },
      "outputs": [],
      "source": [
        "n_epochs=1\n",
        "loss_list=[]\n",
        "accuracy_list=[]\n",
        "correct=0\n",
        "N_test=len(validation_dataset)\n",
        "N_train=len(train_dataset)\n",
        "start_time = time.time()\n",
        "\n",
        "Loss=0\n",
        "start_time = time.time()\n",
        "for epoch in range(n_epochs):\n",
        "    for x, y in train_loader:\n",
        "        x, y = x.to(device), y.to(device)\n",
        "        model.train()\n",
        "        #clear gradient\n",
        "        optimizer.zero_grad()\n",
        "        #make a prediction\n",
        "        z = model(x)\n",
        "        # calculate loss\n",
        "        loss = criterion(z, y)\n",
        "        # calculate gradients of parameters\n",
        "        loss.backward()\n",
        "        # update parameters\n",
        "        optimizer.step()\n",
        "        loss_list.append(loss.data)\n",
        "\n",
        "    with torch.no_grad():\n",
        "        for x_test, y_test in validation_loader:\n",
        "            # set model to eval\n",
        "            x_test, y_test = x_test.to(device), y_test.to(device)\n",
        "            model.eval()\n",
        "            #make a prediction\n",
        "            z = model(x_test)\n",
        "            #find max\n",
        "            _, yhat = torch.max(z.data, 1)\n",
        "\n",
        "            #Calculate misclassified  samples in mini-batch\n",
        "            #hint +=(yhat==y_test).sum().item()\n",
        "            correct += (yhat == y_test).sum().item()\n",
        "\n",
        "    accuracy=correct/N_test\n",
        "    accuracy_list.append(accuracy)\n"
      ]
    },
    {
      "cell_type": "markdown",
      "metadata": {},
      "source": [
        "Validation Accuracy"
      ]
    },
    {
      "cell_type": "code",
      "execution_count": null,
      "metadata": {
        "colab": {
          "base_uri": "https://localhost:8080/"
        },
        "id": "eCj-2Cnc0JRL",
        "outputId": "6cb04341-c11d-42a5-c744-deeffb7d3200"
      },
      "outputs": [],
      "source": [
        "print(\"the accuracy of the model is: \", accuracy)"
      ]
    },
    {
      "cell_type": "markdown",
      "metadata": {},
      "source": [
        "Plotting the Loss"
      ]
    },
    {
      "cell_type": "code",
      "execution_count": null,
      "metadata": {
        "colab": {
          "base_uri": "https://localhost:8080/",
          "height": 449
        },
        "id": "X7ecuCbbK65J",
        "outputId": "96e2d027-eb62-4092-c316-2b13b1dabb1a"
      },
      "outputs": [],
      "source": [
        "loss_list_cpu = [loss.cpu().detach().numpy() for loss in loss_list]\n",
        "\n",
        "# Plot the loss\n",
        "plt.plot(loss_list_cpu)\n",
        "plt.xlabel(\"Iteration\")\n",
        "plt.ylabel(\"Loss\")\n",
        "plt.show()"
      ]
    },
    {
      "cell_type": "markdown",
      "metadata": {
        "id": "6LdlLKEt0JRM"
      },
      "source": [
        "Misclassified Samples\n"
      ]
    },
    {
      "cell_type": "code",
      "execution_count": null,
      "metadata": {
        "colab": {
          "base_uri": "https://localhost:8080/"
        },
        "id": "xd6sdJCbQqPe",
        "outputId": "3e31d201-7382-41bc-97b6-9c9ecbb87f19"
      },
      "outputs": [],
      "source": [
        "count = 0\n",
        "for i, (x, y) in enumerate(torch.utils.data.DataLoader(dataset=validation_dataset, batch_size=1)):\n",
        "\n",
        "    x, y = x.to(device), y.to(device)\n",
        "    model.eval()\n",
        "    z = model(x)\n",
        "    _, yhat = torch.max(z, 1)\n",
        "\n",
        "    if yhat != y:\n",
        "        print(f\"Sample {i} predicted value: {yhat}  actual value: {y}\")\n",
        "        count += 1\n",
        "\n",
        "    if count >= 4:\n",
        "        break\n"
      ]
    }
  ],
  "metadata": {
    "accelerator": "GPU",
    "colab": {
      "gpuType": "T4",
      "provenance": []
    },
    "kernelspec": {
      "display_name": "Python",
      "language": "python",
      "name": "conda-env-python-py"
    },
    "language_info": {
      "codemirror_mode": {
        "name": "ipython",
        "version": 3
      },
      "file_extension": ".py",
      "mimetype": "text/x-python",
      "name": "python",
      "nbconvert_exporter": "python",
      "pygments_lexer": "ipython3",
      "version": "3.7.12"
    }
  },
  "nbformat": 4,
  "nbformat_minor": 0
}
